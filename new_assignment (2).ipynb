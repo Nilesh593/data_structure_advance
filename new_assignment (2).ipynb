{
 "cells": [
  {
   "cell_type": "markdown",
   "id": "38ab13c2-6972-475f-827b-b4f8e749d125",
   "metadata": {},
   "source": [
    "QUESTION-1\n",
    "Write a code to reverse a string."
   ]
  },
  {
   "cell_type": "code",
   "execution_count": 9,
   "id": "7a5c8e0b-5bec-4d5c-a78a-847dbcbd9354",
   "metadata": {},
   "outputs": [
    {
     "name": "stdout",
     "output_type": "stream",
     "text": [
      "olleh\n"
     ]
    }
   ],
   "source": [
    "def reverse_string(string):\n",
    "  \"\"\"Reverses a given string.\"\"\"\n",
    "  return string[::-1]\n",
    "\n",
    "string = \"hello\"\n",
    "reversed_string = reverse_string(string)\n",
    "print(reversed_string) "
   ]
  },
  {
   "cell_type": "markdown",
   "id": "dd3dfce5-1c53-4e00-8432-b6821c8a7a8d",
   "metadata": {},
   "source": [
    "QUESTION-2\n",
    "Write a code to count the number of vowels in a string."
   ]
  },
  {
   "cell_type": "code",
   "execution_count": 11,
   "id": "058e9773-d856-4540-9f7d-6284b292ec44",
   "metadata": {},
   "outputs": [
    {
     "name": "stdout",
     "output_type": "stream",
     "text": [
      "3\n"
     ]
    }
   ],
   "source": [
    "def count_vowels(string):\n",
    "  \"\"\"Counts the number of vowels in a string.\"\"\"\n",
    "  vowels = \"aeiouAEIOU\"\n",
    "  count = 0\n",
    "  for char in string:\n",
    "    if char in vowels:\n",
    "      count += 1\n",
    "  return count\n",
    "\n",
    "string = \"hello, world!\"\n",
    "vowel_count = count_vowels(string)\n",
    "print(vowel_count) "
   ]
  },
  {
   "cell_type": "markdown",
   "id": "19672db0-90ca-4092-9d7f-419dea4e2c07",
   "metadata": {},
   "source": [
    "QUESTION-3\n",
    "Write a code to check if a given string is a palindrome or not."
   ]
  },
  {
   "cell_type": "code",
   "execution_count": 13,
   "id": "9ca913c5-6ff7-4b96-baaf-d7cecc57d9d3",
   "metadata": {},
   "outputs": [
    {
     "name": "stdout",
     "output_type": "stream",
     "text": [
      "True\n"
     ]
    }
   ],
   "source": [
    "def is_palindrome(string):\n",
    "  \"\"\"Checks if a string is a palindrome.\"\"\"\n",
    "  cleaned_string = string.lower().replace(\" \", \"\")\n",
    "  return cleaned_string == cleaned_string[::-1]\n",
    "\n",
    "string = \"A man a plan a canal Panama\"\n",
    "is_palindrome_result = is_palindrome(string)\n",
    "print(is_palindrome_result) "
   ]
  },
  {
   "cell_type": "markdown",
   "id": "f811ad69-8925-458f-a381-82420cb5e358",
   "metadata": {},
   "source": [
    "QUESTION-4\n",
    "Write a code to check if two given strings are anagrams of each other."
   ]
  },
  {
   "cell_type": "code",
   "execution_count": 15,
   "id": "7e3a0303-4116-40ed-9c8b-1f718635575b",
   "metadata": {},
   "outputs": [
    {
     "name": "stdout",
     "output_type": "stream",
     "text": [
      "True\n"
     ]
    }
   ],
   "source": [
    "def are_anagrams(string1, string2):\n",
    "  \"\"\"Checks if two strings are anagrams.\"\"\"\n",
    "  return sorted(string1.lower()) == sorted(string2.lower())\n",
    "\n",
    "string1 = \"listen\"\n",
    "string2 = \"silent\"\n",
    "are_anagrams_result = are_anagrams(string1, string2)\n",
    "print(are_anagrams_result) "
   ]
  },
  {
   "cell_type": "markdown",
   "id": "e3ef8bd9-c949-4b90-892c-73407c4e1d10",
   "metadata": {},
   "source": [
    "QUESTION-5\n",
    "Write a code to find all occurrences of a given substring within another string."
   ]
  },
  {
   "cell_type": "code",
   "execution_count": 17,
   "id": "fab74270-bf39-4067-96de-d15658562444",
   "metadata": {},
   "outputs": [
    {
     "name": "stdout",
     "output_type": "stream",
     "text": [
      "[0, 12]\n"
     ]
    }
   ],
   "source": [
    "def find_occur(string, substring):\n",
    "  \"\"\"Finds all occurrences of a substring within a string.\"\"\"\n",
    "  start_index = 0\n",
    "  occurrences = []\n",
    "  while True:\n",
    "    index = string.find(substring, start_index)\n",
    "    if index == -1:\n",
    "      break\n",
    "    occurrences.append(index)\n",
    "    start_index = index + 1\n",
    "  return occurrences\n",
    "\n",
    "string = \"hello world hello\"\n",
    "substring = \"hello\"\n",
    "occurrences = find_occur(string, substring)\n",
    "print(occurrences) "
   ]
  },
  {
   "cell_type": "markdown",
   "id": "a5c740a4-d351-4ab9-82fb-58f55a263b8b",
   "metadata": {},
   "source": [
    "QUESTION-6\n",
    "Write a code to perform basic string compression using the counts of repeated characters."
   ]
  },
  {
   "cell_type": "code",
   "execution_count": 19,
   "id": "468cfb21-7512-4b9c-9496-65eff8673451",
   "metadata": {},
   "outputs": [
    {
     "name": "stdout",
     "output_type": "stream",
     "text": [
      "a2b1c4a3\n"
     ]
    }
   ],
   "source": [
    "def comp(string):\n",
    "  \"\"\"Performs basic string compression.\"\"\"\n",
    "  compressed_string = \"\"\n",
    "  count = 1\n",
    "  for i in range(1, len(string)):\n",
    "    if string[i] == string[i - 1]:\n",
    "      count += 1\n",
    "    else:\n",
    "      compressed_string += string[i - 1] + str(count)\n",
    "      count = 1\n",
    "  compressed_string += string[-1] + str(count)\n",
    "  return compressed_string\n",
    "\n",
    "\n",
    "string = \"aabccccaaa\"\n",
    "compressed_string = comp(string)\n",
    "print(compressed_string)"
   ]
  },
  {
   "cell_type": "markdown",
   "id": "ebac8a80-24f2-4a5b-9eda-5011d172cfdd",
   "metadata": {},
   "source": [
    "QUESTION-7\n",
    "Write a code to determine if a string has all unique characters."
   ]
  },
  {
   "cell_type": "code",
   "execution_count": 21,
   "id": "fbe7fb99-139a-480a-a7d1-3f02beb86297",
   "metadata": {},
   "outputs": [
    {
     "name": "stdout",
     "output_type": "stream",
     "text": [
      "False\n"
     ]
    }
   ],
   "source": [
    "def unique_char(string):\n",
    "  \"\"\"Determines if a string has all unique characters.\"\"\"\n",
    "  char_set = set()\n",
    "  for char in string:\n",
    "    if char in char_set:\n",
    "      return False\n",
    "    char_set.add(char)\n",
    "  return True\n",
    "\n",
    "string = \"hello\"\n",
    "has_unique_characters_result = unique_char(string)\n",
    "print(has_unique_characters_result)"
   ]
  },
  {
   "cell_type": "markdown",
   "id": "be0d74c7-6cd8-460e-a509-a52f2468243f",
   "metadata": {},
   "source": [
    "QUESTION-8\n",
    "Write a code to convert a given string to uppercase or lowercase."
   ]
  },
  {
   "cell_type": "code",
   "execution_count": 23,
   "id": "60e16794-a2c7-469d-b2fe-58725ab9ea0b",
   "metadata": {},
   "outputs": [
    {
     "name": "stdout",
     "output_type": "stream",
     "text": [
      "RICK NILESH\n",
      "rick nilesh\n"
     ]
    }
   ],
   "source": [
    "def convert_case(string, case):\n",
    "  \"\"\"Converts a string to uppercase or lowercase.\"\"\"\n",
    "  if case == \"upper\":\n",
    "    return string.upper()\n",
    "  elif case == \"lower\":\n",
    "    return string.lower()\n",
    "  else:\n",
    "    return \"Invalid case\"\n",
    "\n",
    "string = \"Rick Nilesh\"\n",
    "upper_case_string = convert_case(string, \"upper\")\n",
    "lower_case_string = convert_case(string, \"lower\")\n",
    "print(upper_case_string)  \n",
    "print(lower_case_string) "
   ]
  },
  {
   "cell_type": "markdown",
   "id": "4fb993dd-015f-4893-82c8-67244a742837",
   "metadata": {},
   "source": [
    "QUESTION-9\n",
    "Write a code to count the number of words in a string."
   ]
  },
  {
   "cell_type": "code",
   "execution_count": 27,
   "id": "971c9a72-f832-4c8e-8c30-a10014858eeb",
   "metadata": {},
   "outputs": [
    {
     "name": "stdout",
     "output_type": "stream",
     "text": [
      "5\n"
     ]
    }
   ],
   "source": [
    "def count_words(string):\n",
    "  \"\"\"Counts the number of words in a string.\"\"\"\n",
    "  return len(string.split())\n",
    "\n",
    "\n",
    "string = \"Hello, how are you now?\"\n",
    "word_count = count_words(string)\n",
    "print(word_count) "
   ]
  },
  {
   "cell_type": "markdown",
   "id": "9b7aae31-932c-4641-898c-ad98f0e4aaac",
   "metadata": {},
   "source": [
    "QUESTION-10\n",
    "Write a code to concatenate two strings without using the + operator."
   ]
  },
  {
   "cell_type": "code",
   "execution_count": 29,
   "id": "c1908dee-5fa5-45d4-aaa3-15f0102fa930",
   "metadata": {},
   "outputs": [
    {
     "name": "stdout",
     "output_type": "stream",
     "text": [
      "helloworld\n"
     ]
    }
   ],
   "source": [
    "def concatenate_strings(string1, string2):\n",
    "  \"\"\"Concatenates two strings without using the + operator.\"\"\"\n",
    "  new_string = \"\"\n",
    "  new_string += string1\n",
    "  new_string += string2\n",
    "  return new_string\n",
    "\n",
    "\n",
    "string1 = \"hello\"\n",
    "string2 = \"world\"\n",
    "concatenated_string = concatenate_strings(string1, string2)\n",
    "print(concatenated_string) "
   ]
  },
  {
   "cell_type": "markdown",
   "id": "37a4dab2-8e27-4734-9aee-7e147c1c3b71",
   "metadata": {},
   "source": [
    "QUESTION-11\n",
    "Write a code to remove all occurrences of a specific element from a list."
   ]
  },
  {
   "cell_type": "code",
   "execution_count": 31,
   "id": "36af3efd-c7fc-4477-a406-212929f5a6d2",
   "metadata": {},
   "outputs": [
    {
     "name": "stdout",
     "output_type": "stream",
     "text": [
      "[1, 3, 4]\n"
     ]
    }
   ],
   "source": [
    "def remove_element(list, element):\n",
    "  \"\"\"Removes all occurrences of a specific element from a list.\"\"\"\n",
    "  return [item for item in list if item != element]\n",
    "\n",
    "list = [1, 2, 3, 2, 4, 2]\n",
    "element = 2\n",
    "new_list = remove_element(list, element)\n",
    "print(new_list)"
   ]
  },
  {
   "cell_type": "markdown",
   "id": "b1a7bb33-89ce-4151-b061-cad0cb8786a3",
   "metadata": {},
   "source": [
    "QUESTION-12\n",
    "Implement a code to find the second largest number in a given list of integers."
   ]
  },
  {
   "cell_type": "code",
   "execution_count": 35,
   "id": "ae274ae4-4560-4e36-9d00-9eff60a9fe44",
   "metadata": {},
   "outputs": [
    {
     "name": "stdout",
     "output_type": "stream",
     "text": [
      "9\n"
     ]
    }
   ],
   "source": [
    "def second_largest(numbers):\n",
    "  \"\"\"Finds the second largest number in a list.\"\"\"\n",
    "  if len(numbers) < 2:\n",
    "    return None\n",
    "  largest = max(numbers)\n",
    "  second_largest = None\n",
    "  for num in numbers:\n",
    "    if num != largest and (second_largest is None or num > second_largest):\n",
    "      second_largest = num\n",
    "  return second_largest\n",
    "\n",
    "numbers = [3, 11, 2, 9, 5]\n",
    "second_largest_number = second_largest(numbers)\n",
    "print(second_largest_number)  \n"
   ]
  },
  {
   "cell_type": "markdown",
   "id": "bca86363-de04-434d-8e57-2d254d867ed1",
   "metadata": {},
   "source": [
    "QUESTION-13\n",
    "Create a code to count the occurrences of each element in a list and return a dictionary with elements as keys and their counts as values."
   ]
  },
  {
   "cell_type": "code",
   "execution_count": 37,
   "id": "b8582603-2297-4ad4-a86c-0c87cd41de9a",
   "metadata": {},
   "outputs": [
    {
     "name": "stdout",
     "output_type": "stream",
     "text": [
      "{1: 2, 2: 2, 3: 1, 4: 1}\n"
     ]
    }
   ],
   "source": [
    "def count_occurrences(list):\n",
    "  \"\"\"Counts the occurrences of each element in a list.\"\"\"\n",
    "  counts = {}\n",
    "  for element in list:\n",
    "    counts[element] = counts.get(element, 0) + 1\n",
    "  return counts\n",
    "\n",
    "list = [1, 2, 2, 3, 1, 4]\n",
    "occurrences = count_occurrences(list)\n",
    "print(occurrences) \n"
   ]
  },
  {
   "cell_type": "markdown",
   "id": "1b6c0d10-16dc-41f0-b281-5b6ed30fafaa",
   "metadata": {},
   "source": [
    "QUESTION-14\n",
    "Write a code to reverse a list in-place without using any built-in reverse functions."
   ]
  },
  {
   "cell_type": "code",
   "execution_count": 39,
   "id": "36790192-9492-47ba-b92b-497b7612df14",
   "metadata": {},
   "outputs": [
    {
     "name": "stdout",
     "output_type": "stream",
     "text": [
      "[5, 4, 3, 2, 1]\n"
     ]
    }
   ],
   "source": [
    "def reverse_list(list):\n",
    "  \"\"\"Reverses a list in-place.\"\"\"\n",
    "  left = 0\n",
    "  right = len(list) - 1\n",
    "  while left < right:\n",
    "    list[left], list[right] = list[right], list[left]\n",
    "    left += 1\n",
    "    right -= 1\n",
    "\n",
    "list = [1, 2, 3, 4, 5]\n",
    "reverse_list(list)\n",
    "print(list)  "
   ]
  },
  {
   "cell_type": "markdown",
   "id": "7c0aa1ae-fe25-4e7b-896c-d9295fb689e1",
   "metadata": {},
   "source": [
    "QUESTION-15\n",
    "Implement a code to find and remove duplicates from a list while preserving the original order of elements."
   ]
  },
  {
   "cell_type": "code",
   "execution_count": 41,
   "id": "1ba3f315-c9ad-4ddf-af0b-f207f04c294e",
   "metadata": {},
   "outputs": [
    {
     "data": {
      "text/plain": [
       "[23, 74, 12, 83, 22, 40, 21]"
      ]
     },
     "execution_count": 41,
     "metadata": {},
     "output_type": "execute_result"
    }
   ],
   "source": [
    "def remove_duplicates(lst):\n",
    "  \"\"\"Removes duplicates from a list while preserving order.\"\"\"\n",
    "  seen = set()\n",
    "  result = []\n",
    "  for item in lst:\n",
    "    if item not in seen:\n",
    "      seen.add(item)\n",
    "      result.append(item)\n",
    "  return result\n",
    "\n",
    "l1 = [23,74,12,83,83,22,22,22,40,21]\n",
    "\n",
    "remove_duplicates(l1)"
   ]
  },
  {
   "cell_type": "markdown",
   "id": "49173aa5-fb19-468f-b8c8-2346434b722c",
   "metadata": {},
   "source": [
    "QUESTION-16\n",
    "Create a code to check if a given list is sorted (either in ascending or descending order) or not."
   ]
  },
  {
   "cell_type": "code",
   "execution_count": 43,
   "id": "d66f87bd-b567-41b5-b450-4a8e24ab2e0b",
   "metadata": {},
   "outputs": [
    {
     "name": "stdout",
     "output_type": "stream",
     "text": [
      "List 1 sorted: True\n",
      "List 2 sorted: True\n",
      "List 3 sorted: False\n"
     ]
    }
   ],
   "source": [
    "def is_sorted(lst):\n",
    "    ascending = all(lst[i] <= lst[i + 1] for i in range(len(lst) - 1))\n",
    "    descending = all(lst[i] >= lst[i + 1] for i in range(len(lst) - 1))\n",
    "    return ascending or descending\n",
    "\n",
    "lst1 = [1, 2, 3, 4, 5]\n",
    "lst2 = [5, 4, 3, 2, 1]\n",
    "lst3 = [3, 1, 4, 2]\n",
    "print(\"List 1 sorted:\", is_sorted(lst1)) \n",
    "print(\"List 2 sorted:\", is_sorted(lst2)) \n",
    "print(\"List 3 sorted:\", is_sorted(lst3))"
   ]
  },
  {
   "cell_type": "markdown",
   "id": "3c0b7824-fdbb-40f0-a376-eaf83abd98bc",
   "metadata": {},
   "source": [
    "QUESTION-17\n",
    "Write a code to merge two sorted lists into a single sorted list."
   ]
  },
  {
   "cell_type": "code",
   "execution_count": 46,
   "id": "180f3c36-617b-4093-9a57-3c7730ef17df",
   "metadata": {},
   "outputs": [
    {
     "name": "stdout",
     "output_type": "stream",
     "text": [
      "Merged list: [1, 2, 3, 4, 5, 6]\n"
     ]
    }
   ],
   "source": [
    "def merge_sort(lst1, lst2):\n",
    "    merged_list = []\n",
    "    i = j = 0\n",
    "    while i < len(lst1) and j < len(lst2):\n",
    "        if lst1[i] < lst2[j]:\n",
    "            merged_list.append(lst1[i])\n",
    "            i += 1\n",
    "        else:\n",
    "            merged_list.append(lst2[j])\n",
    "            j += 1\n",
    "    merged_list.extend(lst1[i:])\n",
    "    merged_list.extend(lst2[j:])\n",
    "    return merged_list\n",
    "\n",
    "lst1 = [1, 3, 5]\n",
    "lst2 = [2, 4, 6]\n",
    "print(\"Merged list:\", merge_sort(lst1, lst2)) "
   ]
  },
  {
   "cell_type": "markdown",
   "id": "4e315bb6-5f76-41ad-b81a-e3419f51e0af",
   "metadata": {},
   "source": [
    "QUESTION-18\n",
    "Implement a code to find the intersection of two given lists."
   ]
  },
  {
   "cell_type": "code",
   "execution_count": 88,
   "id": "22cf660e-91a3-4a41-854a-f1cbdf5e1185",
   "metadata": {},
   "outputs": [
    {
     "name": "stdout",
     "output_type": "stream",
     "text": [
      "Intersection of lists: [3, 4]\n"
     ]
    }
   ],
   "source": [
    "import builtins\n",
    "\n",
    "def intersection(item1, item2):\n",
    "    intersected_set = set(item1) & set(item2)\n",
    "    return builtins.list(intersected_set)\n",
    "item1 = [1, 2, 3, 4]\n",
    "item2 = [3, 4, 5, 6]\n",
    "result = intersection(item1, item2)\n",
    "print(\"Intersection of lists:\", result)\n",
    "\n",
    "\n"
   ]
  },
  {
   "cell_type": "markdown",
   "id": "ff432075-8bf7-493a-af7c-5f70ae36a074",
   "metadata": {},
   "source": [
    "QUESTION-19\n",
    "Create a code to find the union of two lists without duplicates."
   ]
  },
  {
   "cell_type": "code",
   "execution_count": 94,
   "id": "4d496da7-a967-41d2-a50f-10b5adcb8e4f",
   "metadata": {},
   "outputs": [
    {
     "name": "stdout",
     "output_type": "stream",
     "text": [
      "Union of lists: [1, 2, 3, 4, 5, 6]\n"
     ]
    }
   ],
   "source": [
    "import builtins\n",
    "\n",
    "def union(lst1, lst2):\n",
    "    return builtins.list(set(lst1) | set(lst2))\n",
    "\n",
    "lst1 = [1, 2, 3, 4]\n",
    "lst2 = [3, 4, 5, 6]\n",
    "print(\"Union of lists:\", union(lst1, lst2)) "
   ]
  },
  {
   "cell_type": "markdown",
   "id": "7502e151-996c-4436-adfe-ef0d0c5c4c03",
   "metadata": {},
   "source": [
    "QUESTION-20\n",
    "Write a code to shuffle a given list randomly without using any built-in shuffle functions."
   ]
  },
  {
   "cell_type": "code",
   "execution_count": 96,
   "id": "d5e9b988-dedb-4251-b2fb-8fb2a24a0b2d",
   "metadata": {},
   "outputs": [
    {
     "name": "stdout",
     "output_type": "stream",
     "text": [
      "Original list: [1, 2, 3, 4, 5]\n",
      "Shuffled list: [5, 3, 1, 2, 4]\n"
     ]
    }
   ],
   "source": [
    "import random\n",
    "\n",
    "def shuffle(lst):\n",
    "    for i in range(len(lst) - 1, 0, -1):\n",
    "        j = random.randint(0, i)\n",
    "        lst[i], lst[j] = lst[j], lst[i]\n",
    "    return lst\n",
    "\n",
    "lst = [1, 2, 3, 4, 5]\n",
    "print(\"Original list:\", lst)\n",
    "print(\"Shuffled list:\", shuffle(lst.copy()))"
   ]
  },
  {
   "cell_type": "markdown",
   "id": "09ecfdea-0c94-4910-88fd-993126918bac",
   "metadata": {},
   "source": [
    "QUESTION-21\n",
    "Write a code that takes two tuples as input and returns a new tuple containing elements that are common to both input tuples."
   ]
  },
  {
   "cell_type": "code",
   "execution_count": 98,
   "id": "e9364b45-1c3c-4ebc-a506-2e7d627457a0",
   "metadata": {},
   "outputs": [
    {
     "name": "stdout",
     "output_type": "stream",
     "text": [
      "Common elements: (3, 4)\n"
     ]
    }
   ],
   "source": [
    "def common_elements(t1, t2):\n",
    "    return tuple(set(t1) & set(t2))\n",
    "\n",
    "t1 = (1, 2, 3, 4)\n",
    "t2 = (3, 4, 5, 6)\n",
    "print(\"Common elements:\", common_elements(t1, t2)) "
   ]
  },
  {
   "cell_type": "markdown",
   "id": "31c3adeb-e4b5-4b1c-976c-f3e08a2cf883",
   "metadata": {},
   "source": [
    "QUESTION-22\n",
    "Create a code that prompts the user to enter two sets of integers separated by commas. Then, print the intersection of these two sets."
   ]
  },
  {
   "cell_type": "code",
   "execution_count": 100,
   "id": "1f5ca851-15ff-429c-a2ef-635ca7d19918",
   "metadata": {},
   "outputs": [
    {
     "name": "stdin",
     "output_type": "stream",
     "text": [
      "Enter the first set of integers (separated by commas):  10,5,16\n",
      "Enter the second set of integers (separated by commas):  12,3,5\n"
     ]
    },
    {
     "name": "stdout",
     "output_type": "stream",
     "text": [
      "Intersection of the two sets: {5}\n"
     ]
    }
   ],
   "source": [
    "def intersection_user():\n",
    "    set1 = set(map(int, input(\"Enter the first set of integers (separated by commas): \").split(',')))\n",
    "    set2 = set(map(int, input(\"Enter the second set of integers (separated by commas): \").split(',')))\n",
    "    intersection = set1 & set2\n",
    "    print(\"Intersection of the two sets:\", intersection)\n",
    "\n",
    "intersection_user()"
   ]
  },
  {
   "cell_type": "markdown",
   "id": "dc3794d4-0f56-47c5-acc0-dfad94195ca2",
   "metadata": {},
   "source": [
    "QUESTION-23\n",
    "Write a code to concatenate two tuples. The function should take two tuples as input and return a new tuple containing elements from both input tuples."
   ]
  },
  {
   "cell_type": "code",
   "execution_count": 102,
   "id": "b9612869-7cbc-44fe-95f0-88dd0c22d885",
   "metadata": {},
   "outputs": [
    {
     "name": "stdout",
     "output_type": "stream",
     "text": [
      "Concatenated tuple: (1, 2, 3, 4, 5, 6)\n"
     ]
    }
   ],
   "source": [
    "def concatenate_tuples(t1, t2):\n",
    "    return t1 + t2\n",
    "\n",
    "t1 = (1, 2, 3)\n",
    "t2 = (4, 5, 6)\n",
    "print(\"Concatenated tuple:\", concatenate_tuples(t1, t2))"
   ]
  },
  {
   "cell_type": "markdown",
   "id": "5679ee5a-795b-4fed-bb86-8a2d6e84ca77",
   "metadata": {},
   "source": [
    "QUESTION-24\n",
    "Develop a code that prompts the user to input two sets of strings. Then, print the elements that are present in the first set but not in the second set"
   ]
  },
  {
   "cell_type": "code",
   "execution_count": 106,
   "id": "bdaf475e-859c-4897-af14-d4a84a26f674",
   "metadata": {},
   "outputs": [
    {
     "name": "stdin",
     "output_type": "stream",
     "text": [
      "Enter the first set of strings :  rick,pwskills,python\n",
      "Enter the second set of strings :  ajay sir,pwskills,nilesh\n"
     ]
    },
    {
     "name": "stdout",
     "output_type": "stream",
     "text": [
      "Elements present in the first set but not in the second set: {'rick,pwskills,python'}\n"
     ]
    }
   ],
   "source": [
    "def difference_of_sets():\n",
    "    set1 = set(input(\"Enter the first set of strings : \").split())\n",
    "    set2 = set(input(\"Enter the second set of strings : \").split())\n",
    "    difference = set1 - set2\n",
    "    print(\"Elements present in the first set but not in the second set:\", difference)\n",
    "\n",
    "difference_of_sets()"
   ]
  },
  {
   "cell_type": "markdown",
   "id": "bef6224b-932a-40a7-9e04-a1952e6e09a0",
   "metadata": {},
   "source": [
    "QUESTION-25\n",
    "Create a code that takes a tuple and two integers as input. The function should return a new tuple containing elements from the original tuple within the specified range of indices."
   ]
  },
  {
   "cell_type": "code",
   "execution_count": 108,
   "id": "0e0e673e-ecb3-48ee-b1db-b96fa4a45e00",
   "metadata": {},
   "outputs": [
    {
     "name": "stdout",
     "output_type": "stream",
     "text": [
      "Original tuple: (1, 2, 3, 4, 5, 6)\n",
      "Sliced tuple: (3, 4, 5)\n"
     ]
    }
   ],
   "source": [
    "def slice_tuple(t, start, end):\n",
    "    return t[start:end]\n",
    "\n",
    "t = (1, 2, 3, 4, 5, 6)\n",
    "start = 2\n",
    "end = 5\n",
    "print(\"Original tuple:\", t)\n",
    "print(\"Sliced tuple:\", slice_tuple(t, start, end))"
   ]
  },
  {
   "cell_type": "markdown",
   "id": "7411e1e7-3044-4623-a908-de02a806aae7",
   "metadata": {},
   "source": [
    "QUESTION-26\n",
    "Write a code that prompts the user to input two sets of characters. Then, print the union of these two sets."
   ]
  },
  {
   "cell_type": "code",
   "execution_count": 112,
   "id": "600d119f-64fc-4bce-985f-e83703972aec",
   "metadata": {},
   "outputs": [
    {
     "name": "stdin",
     "output_type": "stream",
     "text": [
      "Enter the first set of characters :   \"artificial_intelligence\",\"generative _ai\",\"pwskills\"\n",
      "Enter the second set of characters :  \"data_science\",\"machine_learning\",\"deep_learning\" \n"
     ]
    },
    {
     "name": "stdout",
     "output_type": "stream",
     "text": [
      "Union of the two sets: {'\"data_science\",\"machine_learning\",\"deep_learning\"', '_ai\",\"pwskills\"', '\"artificial_intelligence\",\"generative'}\n"
     ]
    }
   ],
   "source": [
    "def union_of_sets():\n",
    "    set1 = set(input(\"Enter the first set of characters : \").split())\n",
    "    set2 = set(input(\"Enter the second set of characters : \").split())\n",
    "    union = set1 | set2\n",
    "    print(\"Union of the two sets:\", union)\n",
    "\n",
    "union_of_sets()"
   ]
  },
  {
   "cell_type": "markdown",
   "id": "19782ba2-6cf2-4f1c-8c90-c4c0b07f5feb",
   "metadata": {},
   "source": [
    "QUESTION-27\n",
    "Develop a code that takes a tuple of integers as input. The function should return the maximum and minimum values from the tuple using tuple unpacking.\n"
   ]
  },
  {
   "cell_type": "code",
   "execution_count": 114,
   "id": "ec600711-613d-45ef-ae54-2abcff508a5e",
   "metadata": {},
   "outputs": [
    {
     "name": "stdout",
     "output_type": "stream",
     "text": [
      "Tuple: (1, 2, 3, 4, 5, 6)\n",
      "Maximum value: 6\n",
      "Minimum value: 1\n"
     ]
    }
   ],
   "source": [
    "def max_min_tuple(t):\n",
    "    max_val = max(t)\n",
    "    min_val = min(t)\n",
    "    return max_val, min_val\n",
    "\n",
    "t = (1, 2, 3, 4, 5, 6)\n",
    "max_val, min_val = max_min_tuple(t)\n",
    "print(\"Tuple:\", t)\n",
    "print(\"Maximum value:\", max_val)\n",
    "print(\"Minimum value:\", min_val)"
   ]
  },
  {
   "cell_type": "markdown",
   "id": "2ea5e785-6e40-4f08-b640-1ce22d33ab50",
   "metadata": {},
   "source": [
    "QUESTION-28\n",
    "Create a code that defines two sets of integers. Then, print the union, intersection, and difference of these two sets."
   ]
  },
  {
   "cell_type": "code",
   "execution_count": 116,
   "id": "4acddbc8-b5d9-41e6-a127-020a5ba57c0c",
   "metadata": {},
   "outputs": [
    {
     "name": "stdout",
     "output_type": "stream",
     "text": [
      "Set 1: {1, 2, 3, 4}\n",
      "Set 2: {3, 4, 5, 6}\n",
      "Union: {1, 2, 3, 4, 5, 6}\n",
      "Intersection: {3, 4}\n",
      "Difference: {1, 2}\n"
     ]
    }
   ],
   "source": [
    "def set_operations():\n",
    "    set1 = {1, 2, 3, 4}\n",
    "    set2 = {3, 4, 5, 6}\n",
    "    \n",
    "    union = set1 | set2\n",
    "    intersection = set1 & set2\n",
    "    difference = set1 - set2\n",
    "    \n",
    "    print(\"Set 1:\", set1)\n",
    "    print(\"Set 2:\", set2)\n",
    "    print(\"Union:\", union)\n",
    "    print(\"Intersection:\", intersection)\n",
    "    print(\"Difference:\", difference)\n",
    "\n",
    "set_operations()"
   ]
  },
  {
   "cell_type": "markdown",
   "id": "44c1a2fa-2a66-450e-a78b-d73a9f3bfa9b",
   "metadata": {},
   "source": [
    "QUESTION-29\n",
    "Write a code that takes a tuple and an element as input. The function should return the count of occurrences of the given element in the tuple."
   ]
  },
  {
   "cell_type": "code",
   "execution_count": 118,
   "id": "59a7fa64-027c-44d0-929b-1147aaed1c93",
   "metadata": {},
   "outputs": [
    {
     "name": "stdout",
     "output_type": "stream",
     "text": [
      "Tuple: (1, 2, 3, 2, 4, 2, 5)\n",
      "Element to count: 2\n",
      "Count of element: 3\n"
     ]
    }
   ],
   "source": [
    "def count_element(t, element):\n",
    "    return t.count(element)\n",
    "\n",
    "t = (1, 2, 3, 2, 4, 2, 5)\n",
    "element = 2\n",
    "print(\"Tuple:\", t)\n",
    "print(\"Element to count:\", element)\n",
    "print(\"Count of element:\", count_element(t, element))"
   ]
  },
  {
   "cell_type": "markdown",
   "id": "55d0e198-6700-4396-b75b-43422d1e7291",
   "metadata": {},
   "source": [
    "QUESTION-30\n",
    "Develop a code that prompts the user to input two sets of strings. Then, print the symmetric difference of these two sets."
   ]
  },
  {
   "cell_type": "code",
   "execution_count": 120,
   "id": "59b50db7-37be-42a7-ab27-6afe51d159b4",
   "metadata": {},
   "outputs": [
    {
     "name": "stdin",
     "output_type": "stream",
     "text": [
      "Enter the first set of strings :  \"my name is nilesh kumar ghosh\"\n",
      "Enter the second set of strings :  \"my name is rick\"\n"
     ]
    },
    {
     "name": "stdout",
     "output_type": "stream",
     "text": [
      "Symmetric difference of the two sets: {'rick\"', 'ghosh\"', 'kumar', 'nilesh'}\n"
     ]
    }
   ],
   "source": [
    "def symmetric_difference_of_sets():\n",
    "    set1 = set(input(\"Enter the first set of strings : \").split())\n",
    "    set2 = set(input(\"Enter the second set of strings : \").split())\n",
    "    symmetric_difference = set1 ^ set2\n",
    "    print(\"Symmetric difference of the two sets:\", symmetric_difference)\n",
    "\n",
    "symmetric_difference_of_sets()"
   ]
  },
  {
   "cell_type": "markdown",
   "id": "81bb913b-8be0-4094-a804-4f733cf22e8c",
   "metadata": {},
   "source": [
    "QUESTION-31\n",
    "Write a code that takes a list of words as input and returns a dictionary where the keys are unique words and the values are the frequencies of those words in the input list."
   ]
  },
  {
   "cell_type": "code",
   "execution_count": 123,
   "id": "4482fa01-88f8-4b32-aa4e-351138aa5698",
   "metadata": {},
   "outputs": [
    {
     "name": "stdout",
     "output_type": "stream",
     "text": [
      "List of words: ['apple', 'banana', 'apple', 'orange', 'banana', 'apple']\n",
      "Word frequencies: {'apple': 3, 'banana': 2, 'orange': 1}\n"
     ]
    }
   ],
   "source": [
    "def word_freq(words):\n",
    "    freq_dict = {}\n",
    "    for word in words:\n",
    "        if word in freq_dict:\n",
    "            freq_dict[word] += 1\n",
    "        else:\n",
    "            freq_dict[word] = 1\n",
    "    return freq_dict\n",
    "\n",
    "words = [\"apple\", \"banana\", \"apple\", \"orange\", \"banana\", \"apple\"]\n",
    "print(\"List of words:\", words)\n",
    "print(\"Word frequencies:\", word_freq(words))\n"
   ]
  },
  {
   "cell_type": "markdown",
   "id": "b4964a05-b65f-4b46-9e1d-816f4438e1dc",
   "metadata": {},
   "source": [
    "QUESTION-32\n",
    "Write a code that takes two dictionaries as input and merges them into a single dictionary. If there are common keys, the values should be added together."
   ]
  },
  {
   "cell_type": "code",
   "execution_count": 125,
   "id": "dc911aa0-0e0b-4dab-b5dc-925f2a7a3b7e",
   "metadata": {},
   "outputs": [
    {
     "name": "stdout",
     "output_type": "stream",
     "text": [
      "Dictionary 1: {'a': 1, 'b': 2, 'c': 3}\n",
      "Dictionary 2: {'b': 3, 'c': 4, 'd': 5}\n",
      "Merged dictionary: {'a': 1, 'b': 5, 'c': 7, 'd': 5}\n"
     ]
    }
   ],
   "source": [
    "def merge_dictionaries(dict1, dict2):\n",
    "    merged_dict = dict1.copy()  \n",
    "    for key, value in dict2.items():\n",
    "        if key in merged_dict:\n",
    "            merged_dict[key] += value\n",
    "        else:\n",
    "            merged_dict[key] = value\n",
    "    return merged_dict\n",
    "\n",
    "dict1 = {'a': 1, 'b': 2, 'c': 3}\n",
    "dict2 = {'b': 3, 'c': 4, 'd': 5}\n",
    "print(\"Dictionary 1:\", dict1)\n",
    "print(\"Dictionary 2:\", dict2)\n",
    "print(\"Merged dictionary:\", merge_dictionaries(dict1, dict2))"
   ]
  },
  {
   "cell_type": "markdown",
   "id": "01258e90-0181-48f9-85ba-b5da6bfd2f23",
   "metadata": {},
   "source": [
    "QUESTION-33\n",
    "Write a code to access a value in a nested dictionary. The function should take the dictionary and a list of keys as input, and return the corresponding value. If any of the keys do not exist in the dictionary, the function should return None."
   ]
  },
  {
   "cell_type": "code",
   "execution_count": 127,
   "id": "97ebe4ff-67ed-488c-8af6-c318baee7787",
   "metadata": {},
   "outputs": [
    {
     "name": "stdout",
     "output_type": "stream",
     "text": [
      "Nested dictionary: {'a': {'b': {'c': 42}}}\n",
      "Keys to access: ['a', 'b', 'c']\n",
      "Accessed value: 42\n"
     ]
    }
   ],
   "source": [
    "def access_value(nested_dict, keys):\n",
    "    current_value = nested_dict\n",
    "    try:\n",
    "        for key in keys:\n",
    "            current_value = current_value[key]\n",
    "        return current_value\n",
    "    except KeyError:\n",
    "        return None\n",
    "\n",
    "nested_dict = {'a': {'b': {'c': 42}}}\n",
    "keys = ['a', 'b', 'c']\n",
    "print(\"Nested dictionary:\", nested_dict)\n",
    "print(\"Keys to access:\", keys)\n",
    "print(\"Accessed value:\", access_value(nested_dict, keys))"
   ]
  },
  {
   "cell_type": "markdown",
   "id": "ef11895f-72a7-4bc1-99ad-28337bf24ac4",
   "metadata": {},
   "source": [
    "QUESTION-34\n",
    "Write a code that takes a dictionary as input and returns a sorted version of it based on the values. You can choose whether to sort in ascending or descending order."
   ]
  },
  {
   "cell_type": "code",
   "execution_count": 129,
   "id": "60cb7895-2240-495e-980d-999cd33f2faa",
   "metadata": {},
   "outputs": [
    {
     "name": "stdout",
     "output_type": "stream",
     "text": [
      "Original dictionary: {'a': 3, 'b': 1, 'c': 2}\n",
      "Dictionary sorted in ascending order: {'b': 1, 'c': 2, 'a': 3}\n",
      "Dictionary sorted in descending order: {'a': 3, 'c': 2, 'b': 1}\n"
     ]
    }
   ],
   "source": [
    "def sort_dict(d, ascending=True):\n",
    "    sorted_items = sorted(d.items(), key=lambda item: item[1], reverse=not ascending)\n",
    "    return dict(sorted_items)\n",
    "\n",
    "d = {'a': 3, 'b': 1, 'c': 2}\n",
    "print(\"Original dictionary:\", d)\n",
    "print(\"Dictionary sorted in ascending order:\", sort_dict(d))\n",
    "print(\"Dictionary sorted in descending order:\", sort_dict(d, ascending=False))"
   ]
  },
  {
   "cell_type": "markdown",
   "id": "68f6069d-c72d-42d8-83a0-2285b27d4d52",
   "metadata": {},
   "source": [
    "QUESTION-35\n",
    "Write a code that inverts a dictionary, swapping keys and values. Ensure that the inverted dictionary correctly handles cases where multiple keys have the same value by storing the keys as a list in the inverted dictionary."
   ]
  },
  {
   "cell_type": "code",
   "execution_count": 131,
   "id": "d849dc8d-c548-4593-829e-e99ad8f1f458",
   "metadata": {},
   "outputs": [
    {
     "name": "stdout",
     "output_type": "stream",
     "text": [
      "Original dictionary: {'a': 1, 'b': 2, 'c': 1}\n",
      "Inverted dictionary: {1: ['a', 'c'], 2: ['b']}\n"
     ]
    }
   ],
   "source": [
    "def invert_dict(d):\n",
    "    inverted_dict = {}\n",
    "    for key, value in d.items():\n",
    "        if value in inverted_dict:\n",
    "            inverted_dict[value].append(key)\n",
    "        else:\n",
    "            inverted_dict[value] = [key]\n",
    "    return inverted_dict\n",
    "\n",
    "\n",
    "d = {'a': 1, 'b': 2, 'c': 1}\n",
    "print(\"Original dictionary:\", d)\n",
    "print(\"Inverted dictionary:\", invert_dict(d))"
   ]
  },
  {
   "cell_type": "code",
   "execution_count": null,
   "id": "f502c01b-07e3-4ad8-b55d-88db2a6e7dbd",
   "metadata": {},
   "outputs": [],
   "source": []
  }
 ],
 "metadata": {
  "kernelspec": {
   "display_name": "Python 3 (ipykernel)",
   "language": "python",
   "name": "python3"
  },
  "language_info": {
   "codemirror_mode": {
    "name": "ipython",
    "version": 3
   },
   "file_extension": ".py",
   "mimetype": "text/x-python",
   "name": "python",
   "nbconvert_exporter": "python",
   "pygments_lexer": "ipython3",
   "version": "3.12.4"
  }
 },
 "nbformat": 4,
 "nbformat_minor": 5
}
